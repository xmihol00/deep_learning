{
 "cells": [
  {
   "cell_type": "code",
   "execution_count": 58,
   "metadata": {},
   "outputs": [],
   "source": [
    "# ========================================================\n",
    "# Author: David Mihola (david.mihola@student.tugraz.at)\n",
    "# Matrikelnummer: 12211951\n",
    "# Date: 21. 12. 2022\n",
    "# ========================================================"
   ]
  },
  {
   "cell_type": "code",
   "execution_count": 59,
   "metadata": {},
   "outputs": [],
   "source": [
    "import tensorflow.keras.datasets as tfd\n",
    "import tensorflow.keras.utils as tfu\n",
    "import tensorflow.keras.models as tfm\n",
    "import tensorflow.keras.layers as tfl\n",
    "import tensorflow.keras.callbacks as tfc\n",
    "import tensorflow as tf\n",
    "import numpy as np"
   ]
  },
  {
   "cell_type": "code",
   "execution_count": 60,
   "metadata": {},
   "outputs": [
    {
     "data": {
      "text/plain": [
       "(TensorShape([50000, 32, 32, 1]),\n",
       " (50000, 10),\n",
       " TensorShape([10000, 32, 32, 1]),\n",
       " (10000,))"
      ]
     },
     "execution_count": 60,
     "metadata": {},
     "output_type": "execute_result"
    }
   ],
   "source": [
    "(x_train, y_train), (x_test, y_test) = tfd.cifar10.load_data()\n",
    "x_train, x_test = np.mean(x_train, axis=3), np.mean(x_test, axis=3) # convert to grayscale\n",
    "x_train, x_test = x_train / 255, x_test / 255 # normalize to pixel values between 0 and 1\n",
    "x_train, x_test = tf.expand_dims(x_train, -1), tf.expand_dims(x_test, -1) # adding chanel dimension\n",
    "\n",
    "NUM_OF_CLASSES = 10\n",
    "y_train = tfu.to_categorical(y_train, num_classes=NUM_OF_CLASSES)\n",
    "y_test = np.array(y_test).reshape(len(y_test))\n",
    "x_train.shape, y_train.shape, x_test.shape, y_test.shape"
   ]
  },
  {
   "cell_type": "code",
   "execution_count": 61,
   "metadata": {},
   "outputs": [],
   "source": [
    "full_conv = tfm.Sequential([\n",
    "    tfl.Conv2D(filters=16, kernel_size=(3, 3), activation=\"relu\", padding=\"same\"),\n",
    "    tfl.Conv2D(filters=16, kernel_size=(3, 3), strides=(2, 2), activation=\"relu\", padding=\"same\"),\n",
    "    tfl.Conv2D(filters=32, kernel_size=(3, 3), activation=\"relu\", padding=\"same\"),\n",
    "    tfl.Conv2D(filters=32, kernel_size=(3, 3), strides=(2, 2), activation=\"relu\", padding=\"same\"),\n",
    "    tfl.Conv2D(filters=64, kernel_size=(3, 3), activation=\"relu\", padding=\"same\"),\n",
    "    tfl.Conv2D(filters=64, kernel_size=(3, 3), strides=(2, 2), activation=\"relu\", padding=\"same\"),\n",
    "    tfl.Conv2D(filters=128, kernel_size=(3, 3), activation=\"relu\", padding=\"same\"),\n",
    "    tfl.Conv2D(filters=128, kernel_size=(3, 3), strides=(2, 2), activation=\"relu\", padding=\"same\"),\n",
    "    tfl.Conv2D(filters=256, kernel_size=(3, 3), activation=\"relu\", padding=\"same\"),\n",
    "    tfl.Conv2D(filters=256, kernel_size=(3, 3), strides=(2, 2), activation=\"relu\", padding=\"same\"),\n",
    "    tfl.Conv2D(filters=10, kernel_size=(1, 1), activation=\"softmax\", padding=\"same\"),\n",
    "    tfl.Reshape([10])                                                                               \n",
    "])\n",
    "\n",
    "model_full_conv_max_pool = tfm.Sequential([\n",
    "    tfl.Conv2D(filters=32, kernel_size=(3, 3), activation=\"relu\", padding=\"same\"),\n",
    "    tfl.MaxPool2D(),\n",
    "    tfl.Conv2D(filters=64, kernel_size=(3, 3), activation=\"relu\", padding=\"same\"),\n",
    "    tfl.MaxPool2D(),\n",
    "    tfl.Conv2D(filters=128, kernel_size=(3, 3), activation=\"relu\", padding=\"same\"),\n",
    "    tfl.MaxPool2D(),\n",
    "    tfl.Conv2D(filters=256, kernel_size=(3, 3), activation=\"relu\", padding=\"same\"),\n",
    "    tfl.MaxPool2D(),\n",
    "    tfl.Conv2D(filters=512, kernel_size=(3, 3), activation=\"relu\", padding=\"same\"),\n",
    "    tfl.MaxPool2D(),\n",
    "    tfl.Conv2D(filters=256, kernel_size=(1, 1), activation=\"relu\", padding=\"same\"),\n",
    "    tfl.Conv2D(filters=10, kernel_size=(1, 1), activation=\"softmax\", padding=\"same\"),\n",
    "    tfl.Reshape([10])\n",
    "])\n",
    "\n",
    "VGG_inspired_less_kernels = tfm.Sequential([\n",
    "    tfl.Conv2D(filters=16, kernel_size=(3, 3), activation=\"relu\", padding=\"same\"),\n",
    "    tfl.Conv2D(filters=16, kernel_size=(3, 3), activation=\"relu\", padding=\"same\"),\n",
    "    tfl.MaxPool2D(),\n",
    "    tfl.Conv2D(filters=32, kernel_size=(3, 3), activation=\"relu\", padding=\"same\"),\n",
    "    tfl.Conv2D(filters=32, kernel_size=(3, 3), activation=\"relu\", padding=\"same\"),\n",
    "    tfl.MaxPool2D(),\n",
    "    tfl.Conv2D(filters=64, kernel_size=(3, 3), activation=\"relu\", padding=\"same\"),\n",
    "    tfl.Conv2D(filters=64, kernel_size=(3, 3), activation=\"relu\", padding=\"same\"),\n",
    "    tfl.MaxPool2D(),\n",
    "    tfl.Flatten(),\n",
    "    tfl.Dense(128, activation=\"relu\"),\n",
    "    tfl.Dense(10, activation=\"softmax\")\n",
    "])\n",
    "\n",
    "VGG_inspired_more_kernels = tfm.Sequential([\n",
    "    tfl.Conv2D(filters=32, kernel_size=(3, 3), activation=\"relu\", padding=\"same\"),\n",
    "    tfl.Conv2D(filters=32, kernel_size=(3, 3), activation=\"relu\", padding=\"same\"),\n",
    "    tfl.MaxPool2D(),\n",
    "    tfl.Conv2D(filters=64, kernel_size=(3, 3), activation=\"relu\", padding=\"same\"),\n",
    "    tfl.Conv2D(filters=64, kernel_size=(3, 3), activation=\"relu\", padding=\"same\"),\n",
    "    tfl.MaxPool2D(),\n",
    "    tfl.Conv2D(filters=128, kernel_size=(3, 3), activation=\"relu\", padding=\"same\"),\n",
    "    tfl.Conv2D(filters=128, kernel_size=(3, 3), activation=\"relu\", padding=\"same\"),\n",
    "    tfl.MaxPool2D(),\n",
    "    tfl.Flatten(),\n",
    "    tfl.Dense(256, activation=\"relu\"),\n",
    "    tfl.Dense(10, activation=\"softmax\")\n",
    "])\n",
    "\n",
    "VGG_inspired_3_dense_layers = tfm.Sequential([\n",
    "    tfl.Conv2D(filters=32, kernel_size=(3, 3), activation=\"relu\", padding=\"same\"),\n",
    "    tfl.Conv2D(filters=32, kernel_size=(3, 3), activation=\"relu\", padding=\"same\"),\n",
    "    tfl.MaxPool2D(),\n",
    "    tfl.Conv2D(filters=64, kernel_size=(3, 3), activation=\"relu\", padding=\"same\"),\n",
    "    tfl.Conv2D(filters=64, kernel_size=(3, 3), activation=\"relu\", padding=\"same\"),\n",
    "    tfl.MaxPool2D(),\n",
    "    tfl.Conv2D(filters=128, kernel_size=(3, 3), activation=\"relu\", padding=\"same\"),\n",
    "    tfl.Conv2D(filters=128, kernel_size=(3, 3), activation=\"relu\", padding=\"same\"),\n",
    "    tfl.Flatten(),\n",
    "    tfl.Dense(512, activation=\"relu\"),\n",
    "    tfl.Dense(128, activation=\"relu\"),\n",
    "    tfl.Dense(10, activation=\"softmax\")\n",
    "])\n",
    "\n",
    "full_conv.compile(optimizer=\"adam\", loss=\"categorical_crossentropy\")\n",
    "model_full_conv_max_pool.compile(optimizer=\"adam\", loss=\"categorical_crossentropy\")\n",
    "VGG_inspired_less_kernels.compile(optimizer=\"adam\", loss=\"categorical_crossentropy\")\n",
    "VGG_inspired_more_kernels.compile(optimizer=\"adam\", loss=\"categorical_crossentropy\")\n",
    "VGG_inspired_3_dense_layers.compile(optimizer=\"adam\", loss=\"categorical_crossentropy\")"
   ]
  },
  {
   "cell_type": "code",
   "execution_count": 62,
   "metadata": {},
   "outputs": [
    {
     "name": "stdout",
     "output_type": "stream",
     "text": [
      "1250/1250 [==============================] - 74s 59ms/step - loss: 1.8383 - val_loss: 1.5264\n",
      "1250/1250 [==============================] - 140s 112ms/step - loss: 1.6972 - val_loss: 1.2874\n",
      "1250/1250 [==============================] - 74s 59ms/step - loss: 1.8349 - val_loss: 1.4335\n",
      "1250/1250 [==============================] - 179s 143ms/step - loss: 1.6596 - val_loss: 1.2102\n",
      "1250/1250 [==============================] - 254s 202ms/step - loss: 1.7157 - val_loss: 1.3809\n"
     ]
    },
    {
     "data": {
      "text/plain": [
       "<keras.callbacks.History at 0x7fb7cc9353f0>"
      ]
     },
     "execution_count": 62,
     "metadata": {},
     "output_type": "execute_result"
    }
   ],
   "source": [
    "full_conv.fit(x_train, y_train, epochs=100, validation_split=0.2, batch_size=32,\n",
    "              callbacks=[tfc.EarlyStopping(monitor=\"val_loss\", patience=3, mode=\"min\", restore_best_weights=True)])\n",
    "model_full_conv_max_pool.fit(x_train, y_train, epochs=100, validation_split=0.2, batch_size=32,\n",
    "                             callbacks=[tfc.EarlyStopping(monitor=\"val_loss\", patience=3, mode=\"min\", restore_best_weights=True)])\n",
    "VGG_inspired_less_kernels.fit(x_train, y_train, epochs=100, validation_split=0.2, batch_size=32,\n",
    "                          callbacks=[tfc.EarlyStopping(monitor=\"val_loss\", patience=3, mode=\"min\", restore_best_weights=True)])\n",
    "VGG_inspired_more_kernels.fit(x_train, y_train, epochs=100, validation_split=0.2, batch_size=32,\n",
    "                          callbacks=[tfc.EarlyStopping(monitor=\"val_loss\", patience=3, mode=\"min\", restore_best_weights=True)])\n",
    "VGG_inspired_3_dense_layers.fit(x_train, y_train, epochs=100, validation_split=0.2, batch_size=32,\n",
    "                                callbacks=[tfc.EarlyStopping(monitor=\"val_loss\", patience=3, mode=\"min\", restore_best_weights=True)])"
   ]
  },
  {
   "cell_type": "code",
   "execution_count": 63,
   "metadata": {},
   "outputs": [],
   "source": [
    "full_conv.save_weights(\"./models/full_conv\")\n",
    "model_full_conv_max_pool.save_weights(\"./models/model_full_conv_max_pool\")\n",
    "VGG_inspired_less_kernels.save_weights(\"./models/VGG_inspired_less_kernels\")\n",
    "VGG_inspired_more_kernels.save_weights(\"./models/VGG_inspired_more_kernels\")\n",
    "VGG_inspired_3_dense_layers.save_weights(\"./models/VGG_inspired_3_dense_layers\")"
   ]
  },
  {
   "cell_type": "code",
   "execution_count": 64,
   "metadata": {},
   "outputs": [
    {
     "name": "stdout",
     "output_type": "stream",
     "text": [
      "313/313 [==============================] - 4s 12ms/step\n",
      "313/313 [==============================] - 5s 17ms/step\n",
      "313/313 [==============================] - 4s 13ms/step\n",
      "313/313 [==============================] - 12s 38ms/step\n",
      "313/313 [==============================] - 14s 44ms/step\n"
     ]
    }
   ],
   "source": [
    "full_conv_pred = full_conv.predict(x_test)\n",
    "model_full_conv_max_pool_pred = model_full_conv_max_pool.predict(x_test)\n",
    "VGG_inspired_less_kernels_pred = VGG_inspired_less_kernels.predict(x_test)\n",
    "VGG_inspired_more_kernels_pred = VGG_inspired_more_kernels.predict(x_test)\n",
    "VGG_inspired_3_dense_layers_pred = VGG_inspired_3_dense_layers.predict(x_test)"
   ]
  },
  {
   "cell_type": "code",
   "execution_count": 65,
   "metadata": {},
   "outputs": [
    {
     "name": "stdout",
     "output_type": "stream",
     "text": [
      "full_conv_accuracy:                   44.27 %\n",
      "model_full_conv_max_pool_accuracy:    53.76 %\n",
      "VGG_inspired_less_kernels_accuracy:       47.18 %\n",
      "VGG_inspired_more_kernels_accuracy:       55.80 %\n",
      "VGG_inspired_3_dense_layers_accuracy: 49.82 %\n"
     ]
    }
   ],
   "source": [
    "NUM_OF_TEST_SAMPLES = len(y_test)\n",
    "\n",
    "full_conv_accuracy = (np.argmax(full_conv_pred, axis=1) == y_test).sum() / NUM_OF_TEST_SAMPLES\n",
    "model_full_conv_max_pool_accuracy = (np.argmax(model_full_conv_max_pool_pred, axis=1) == y_test).sum() / NUM_OF_TEST_SAMPLES\n",
    "VGG_inspired_less_kernels_accuracy = (np.argmax(VGG_inspired_less_kernels_pred, axis=1) == y_test).sum() / NUM_OF_TEST_SAMPLES\n",
    "VGG_inspired_more_kernels_accuracy = (np.argmax(VGG_inspired_more_kernels_pred, axis=1) == y_test).sum() / NUM_OF_TEST_SAMPLES\n",
    "VGG_inspired_3_dense_layers_accuracy = (np.argmax(VGG_inspired_3_dense_layers_pred, axis=1) == y_test).sum() / NUM_OF_TEST_SAMPLES\n",
    "\n",
    "print(f\"full_conv_accuracy:                   {full_conv_accuracy * 100:.2f} %\")\n",
    "print(f\"model_full_conv_max_pool_accuracy:    {model_full_conv_max_pool_accuracy * 100:.2f} %\")\n",
    "print(f\"VGG_inspired_less_kernels_accuracy:       {VGG_inspired_less_kernels_accuracy * 100:.2f} %\")\n",
    "print(f\"VGG_inspired_more_kernels_accuracy:       {VGG_inspired_more_kernels_accuracy * 100:.2f} %\")\n",
    "print(f\"VGG_inspired_3_dense_layers_accuracy: {VGG_inspired_3_dense_layers_accuracy * 100:.2f} %\")"
   ]
  }
 ],
 "metadata": {
  "kernelspec": {
   "display_name": "Python 3.10.6 64-bit",
   "language": "python",
   "name": "python3"
  },
  "language_info": {
   "codemirror_mode": {
    "name": "ipython",
    "version": 3
   },
   "file_extension": ".py",
   "mimetype": "text/x-python",
   "name": "python",
   "nbconvert_exporter": "python",
   "pygments_lexer": "ipython3",
   "version": "3.10.6"
  },
  "orig_nbformat": 4,
  "vscode": {
   "interpreter": {
    "hash": "916dbcbb3f70747c44a77c7bcd40155683ae19c65e1c03b4aa3499c5328201f1"
   }
  }
 },
 "nbformat": 4,
 "nbformat_minor": 2
}
