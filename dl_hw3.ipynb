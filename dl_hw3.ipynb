{
 "cells": [
  {
   "cell_type": "code",
   "execution_count": 47,
   "metadata": {},
   "outputs": [],
   "source": [
    "# ========================================================\n",
    "# Author: David Mihola (david.mihola@student.tugraz.at)\n",
    "# Matrikelnummer: 12211951\n",
    "# Date: 21. 12. 2022\n",
    "# ========================================================"
   ]
  },
  {
   "cell_type": "code",
   "execution_count": 48,
   "metadata": {},
   "outputs": [],
   "source": [
    "import tensorflow.keras.datasets as tfd\n",
    "import tensorflow.keras.utils as tfu\n",
    "import tensorflow.keras.models as tfm\n",
    "import tensorflow.keras.layers as tfl\n",
    "import tensorflow as tf\n",
    "import numpy as np"
   ]
  },
  {
   "cell_type": "code",
   "execution_count": 49,
   "metadata": {},
   "outputs": [
    {
     "data": {
      "text/plain": [
       "(TensorShape([50000, 32, 32, 1]),\n",
       " (50000, 10),\n",
       " TensorShape([10000, 32, 32, 1]),\n",
       " (10000,))"
      ]
     },
     "execution_count": 49,
     "metadata": {},
     "output_type": "execute_result"
    }
   ],
   "source": [
    "(x_train, y_train), (x_test, y_test) = tfd.cifar10.load_data()\n",
    "x_train, x_test = np.mean(x_train, axis=3), np.mean(x_test, axis=3) # convert to grayscale\n",
    "x_train, x_test = x_train / 255, x_test / 255 # normalize to pixel values between 0 and 1\n",
    "x_train, x_test = tf.expand_dims(x_train, -1), tf.expand_dims(x_test, -1) # adding chanel dimension\n",
    "\n",
    "NUM_OF_CLASSES = 10\n",
    "y_train = tfu.to_categorical(y_train, num_classes=NUM_OF_CLASSES)\n",
    "y_test = np.array(y_test).reshape(len(y_test))\n",
    "x_train.shape, y_train.shape, x_test.shape, y_test.shape"
   ]
  },
  {
   "cell_type": "code",
   "execution_count": 50,
   "metadata": {},
   "outputs": [],
   "source": [
    "model_with_dense = tfm.Sequential([\n",
    "    tfl.Conv2D(filters=16, kernel_size=(3, 3), activation=\"relu\", padding=\"valid\"),                  # TODO, 16 chanels\n",
    "    tfl.Conv2D(filters=16, kernel_size=(3, 3), strides=(2, 2), activation=\"relu\", padding=\"valid\"),  # TODO, 16 chanels\n",
    "    tfl.Conv2D(filters=32, kernel_size=(3, 3), activation=\"relu\", padding=\"valid\"),                  # TODO, 32 chanels\n",
    "    tfl.Conv2D(filters=32, kernel_size=(3, 3), strides=(2, 2), activation=\"relu\", padding=\"valid\"),  # TODO, 32 chanels\n",
    "    tfl.Flatten(),\n",
    "    tfl.Dense(128, activation=\"relu\"),\n",
    "    tfl.Dropout(0.5),\n",
    "    tfl.Dense(32, activation=\"relu\"),\n",
    "    tfl.Dropout(0.25),\n",
    "    tfl.Dense(10, activation=\"softmax\")                                                              # 10 neurons\n",
    "])\n",
    "\n",
    "model_with_dense_max_pool = tfm.Sequential([\n",
    "    tfl.Conv2D(filters=16, kernel_size=(3, 3), activation=\"relu\", padding=\"valid\"),                 # TODO, 16 chanels\n",
    "    tfl.MaxPool2D(),                                                                                # TODO, 16 chanels\n",
    "    tfl.Conv2D(filters=32, kernel_size=(3, 3), activation=\"relu\", padding=\"valid\"),                 # TODO, 32 chanels\n",
    "    tfl.MaxPool2D(),                                                                                # TODO, 32 chanels\n",
    "    tfl.Flatten(),\n",
    "    tfl.Dense(128, activation=\"relu\"),\n",
    "    tfl.Dropout(0.5),\n",
    "    tfl.Dense(32, activation=\"relu\"),\n",
    "    tfl.Dropout(0.25),\n",
    "    tfl.Dense(10, activation=\"softmax\")                                                              # 10 neurons\n",
    "])\n",
    "\n",
    "model_with_dense_avg_pool = tfm.Sequential([\n",
    "    tfl.Conv2D(filters=16, kernel_size=(3, 3), activation=\"relu\", padding=\"valid\"),                 # TODO, 16 chanels\n",
    "    tfl.AveragePooling2D(),                                                                         # TODO, 16 chanels\n",
    "    tfl.Conv2D(filters=32, kernel_size=(3, 3), activation=\"relu\", padding=\"valid\"),                 # TODO, 32 chanels\n",
    "    tfl.AveragePooling2D(),                                                                         # TODO, 32 chanels\n",
    "    tfl.Flatten(),\n",
    "    tfl.Dense(128, activation=\"relu\"),\n",
    "    tfl.Dropout(0.5),\n",
    "    tfl.Dense(32, activation=\"relu\"),\n",
    "    tfl.Dropout(0.25),\n",
    "    tfl.Dense(10, activation=\"softmax\")                                                              # 10 neurons\n",
    "])\n",
    "\n",
    "model_full_conv = tfm.Sequential([\n",
    "    tfl.Conv2D(filters=16, kernel_size=(3, 3), activation=\"relu\", padding=\"same\"),                  # 32x32, 16 chanels\n",
    "    tfl.Conv2D(filters=16, kernel_size=(3, 3), strides=(2, 2), activation=\"relu\", padding=\"same\"),  # 16x16, 16 chanels\n",
    "    tfl.Conv2D(filters=32, kernel_size=(3, 3), activation=\"relu\", padding=\"same\"),                  # 16x16, 32 chanels\n",
    "    tfl.Conv2D(filters=32, kernel_size=(3, 3), strides=(2, 2), activation=\"relu\", padding=\"same\"),  # 8x8, 32 chanels\n",
    "    tfl.Conv2D(filters=64, kernel_size=(3, 3), activation=\"relu\", padding=\"same\"),                  # 8x8, 64 chanels\n",
    "    tfl.Conv2D(filters=64, kernel_size=(3, 3), strides=(2, 2), activation=\"relu\", padding=\"same\"),  # 4x4, 64 chanels\n",
    "    tfl.Conv2D(filters=128, kernel_size=(3, 3), activation=\"relu\", padding=\"same\"),                 # 4x4, 128 chanels\n",
    "    tfl.Conv2D(filters=128, kernel_size=(3, 3), strides=(2, 2), activation=\"relu\", padding=\"same\"), # 2x2, 128 chanels\n",
    "    tfl.Conv2D(filters=256, kernel_size=(3, 3), activation=\"relu\", padding=\"same\"),                 # 2x2, 256 chanels\n",
    "    tfl.Conv2D(filters=256, kernel_size=(3, 3), strides=(2, 2), activation=\"relu\", padding=\"same\"), # 1x1, 256 chanels\n",
    "    tfl.Conv2D(filters=10, kernel_size=(1, 1), activation=\"softmax\", padding=\"same\"),               # 1x1, 10 chanels\n",
    "    tfl.Reshape([10])                                                                               # 10 neurons\n",
    "])\n",
    "\n",
    "model_full_conv_max_pool = tfm.Sequential([\n",
    "    tfl.Conv2D(filters=16, kernel_size=(3, 3), activation=\"relu\", padding=\"same\"),                  # 32x32, 16 chanels\n",
    "    tfl.MaxPool2D(),                                                                                # 16x16, 16 chanels\n",
    "    tfl.Conv2D(filters=32, kernel_size=(3, 3), activation=\"relu\", padding=\"same\"),                  # 16x16, 32 chanels\n",
    "    tfl.MaxPool2D(),                                                                                # 8x8, 32 chanels\n",
    "    tfl.Conv2D(filters=64, kernel_size=(3, 3), activation=\"relu\", padding=\"same\"),                  # 8x8, 64 chanels\n",
    "    tfl.MaxPool2D(),                                                                                # 4x4, 64 chanels\n",
    "    tfl.Conv2D(filters=128, kernel_size=(3, 3), activation=\"relu\", padding=\"same\"),                 # 4x4, 128 chanels\n",
    "    tfl.MaxPool2D(),                                                                                # 2x2, 128 chanels\n",
    "    tfl.Conv2D(filters=256, kernel_size=(3, 3), activation=\"relu\", padding=\"same\"),                 # 2x2, 256 chanels\n",
    "    tfl.MaxPool2D(),                                                                                # 1x1, 256 chanels\n",
    "    tfl.Conv2D(filters=10, kernel_size=(1, 1), activation=\"softmax\", padding=\"same\"),               # 1x1, 10 chanels\n",
    "    tfl.Reshape([10])                                                                               # 10 neurons\n",
    "])\n",
    "\n",
    "model_full_conv_avg_pool = tfm.Sequential([\n",
    "    tfl.Conv2D(filters=16, kernel_size=(3, 3), activation=\"relu\", padding=\"same\"),                  # 32x32, 16 chanels\n",
    "    tfl.AveragePooling2D(),                                                                         # 16x16, 16 chanels\n",
    "    tfl.Conv2D(filters=32, kernel_size=(3, 3), activation=\"relu\", padding=\"same\"),                  # 16x16, 32 chanels\n",
    "    tfl.AveragePooling2D(),                                                                         # 8x8, 32 chanels\n",
    "    tfl.Conv2D(filters=64, kernel_size=(3, 3), activation=\"relu\", padding=\"same\"),                  # 8x8, 64 chanels\n",
    "    tfl.AveragePooling2D(),                                                                         # 4x4, 64 chanels\n",
    "    tfl.Conv2D(filters=128, kernel_size=(3, 3), activation=\"relu\", padding=\"same\"),                 # 4x4, 128 chanels\n",
    "    tfl.AveragePooling2D(),                                                                         # 2x2, 128 chanels\n",
    "    tfl.Conv2D(filters=256, kernel_size=(3, 3), activation=\"relu\", padding=\"same\"),                 # 2x2, 256 chanels\n",
    "    tfl.AveragePooling2D(),                                                                         # 1x1, 256 chanels\n",
    "    tfl.Conv2D(filters=10, kernel_size=(1, 1), activation=\"softmax\", padding=\"same\"),               # 1x1, 10 chanels\n",
    "    tfl.Reshape([10])                                                                               # 10 neurons\n",
    "])\n",
    "\n",
    "model_with_dense.compile(optimizer=\"adam\", loss=\"categorical_crossentropy\")\n",
    "model_with_dense_max_pool.compile(optimizer=\"adam\", loss=\"categorical_crossentropy\")\n",
    "model_with_dense_avg_pool.compile(optimizer=\"adam\", loss=\"categorical_crossentropy\")\n",
    "model_full_conv.compile(optimizer=\"adam\", loss=\"categorical_crossentropy\")\n",
    "model_full_conv_max_pool.compile(optimizer=\"adam\", loss=\"categorical_crossentropy\")\n",
    "model_full_conv_avg_pool.compile(optimizer=\"adam\", loss=\"categorical_crossentropy\")"
   ]
  },
  {
   "cell_type": "code",
   "execution_count": 51,
   "metadata": {},
   "outputs": [
    {
     "name": "stdout",
     "output_type": "stream",
     "text": [
      "Epoch 1/5\n",
      "1250/1250 [==============================] - 17s 13ms/step - loss: 1.9923 - val_loss: 1.6790\n",
      "Epoch 2/5\n",
      "1250/1250 [==============================] - 16s 13ms/step - loss: 1.6827 - val_loss: 1.4879\n",
      "Epoch 3/5\n",
      "1250/1250 [==============================] - 17s 13ms/step - loss: 1.5466 - val_loss: 1.3811\n",
      "Epoch 4/5\n",
      "1250/1250 [==============================] - 16s 12ms/step - loss: 1.4394 - val_loss: 1.2928\n",
      "Epoch 5/5\n",
      "1250/1250 [==============================] - 16s 12ms/step - loss: 1.3598 - val_loss: 1.2690\n",
      "Epoch 1/5\n",
      "1250/1250 [==============================] - 16s 12ms/step - loss: 1.9405 - val_loss: 1.5745\n",
      "Epoch 2/5\n",
      "1250/1250 [==============================] - 15s 12ms/step - loss: 1.6317 - val_loss: 1.4315\n",
      "Epoch 3/5\n",
      "1250/1250 [==============================] - 14s 11ms/step - loss: 1.5060 - val_loss: 1.3270\n",
      "Epoch 4/5\n",
      "1250/1250 [==============================] - 16s 13ms/step - loss: 1.4215 - val_loss: 1.2887\n",
      "Epoch 5/5\n",
      "1250/1250 [==============================] - 17s 13ms/step - loss: 1.3506 - val_loss: 1.2101\n",
      "Epoch 1/5\n",
      "1250/1250 [==============================] - 17s 13ms/step - loss: 1.9526 - val_loss: 1.6822\n",
      "Epoch 2/5\n",
      "1250/1250 [==============================] - 19s 15ms/step - loss: 1.7012 - val_loss: 1.5402\n",
      "Epoch 3/5\n",
      "1250/1250 [==============================] - 17s 13ms/step - loss: 1.5830 - val_loss: 1.3933\n",
      "Epoch 4/5\n",
      "1250/1250 [==============================] - 19s 15ms/step - loss: 1.4959 - val_loss: 1.3339\n",
      "Epoch 5/5\n",
      "1250/1250 [==============================] - 18s 15ms/step - loss: 1.4277 - val_loss: 1.2892\n",
      "Epoch 1/5\n",
      "1250/1250 [==============================] - 87s 69ms/step - loss: 1.8411 - val_loss: 1.5823\n",
      "Epoch 2/5\n",
      "1250/1250 [==============================] - 84s 67ms/step - loss: 1.4573 - val_loss: 1.3519\n",
      "Epoch 3/5\n",
      "1250/1250 [==============================] - 84s 67ms/step - loss: 1.2383 - val_loss: 1.2693\n",
      "Epoch 4/5\n",
      "1250/1250 [==============================] - 84s 67ms/step - loss: 1.0880 - val_loss: 1.1539\n",
      "Epoch 5/5\n",
      "1250/1250 [==============================] - 84s 67ms/step - loss: 0.9757 - val_loss: 1.0782\n",
      "Epoch 1/5\n",
      "1250/1250 [==============================] - 43s 34ms/step - loss: 1.6356 - val_loss: 1.3441\n",
      "Epoch 2/5\n",
      "1250/1250 [==============================] - 43s 34ms/step - loss: 1.1919 - val_loss: 1.1897\n",
      "Epoch 3/5\n",
      "1250/1250 [==============================] - 43s 34ms/step - loss: 1.0095 - val_loss: 1.0114\n",
      "Epoch 4/5\n",
      "1250/1250 [==============================] - 42s 34ms/step - loss: 0.8769 - val_loss: 0.9140\n",
      "Epoch 5/5\n",
      "1250/1250 [==============================] - 41s 33ms/step - loss: 0.7714 - val_loss: 0.9114\n",
      "Epoch 1/5\n",
      "1250/1250 [==============================] - 40s 32ms/step - loss: 1.8200 - val_loss: 1.6387\n",
      "Epoch 2/5\n",
      "1250/1250 [==============================] - 39s 31ms/step - loss: 1.5125 - val_loss: 1.3885\n",
      "Epoch 3/5\n",
      "1250/1250 [==============================] - 40s 32ms/step - loss: 1.3441 - val_loss: 1.2970\n",
      "Epoch 4/5\n",
      "1250/1250 [==============================] - 40s 32ms/step - loss: 1.2124 - val_loss: 1.1868\n",
      "Epoch 5/5\n",
      "1250/1250 [==============================] - 40s 32ms/step - loss: 1.1102 - val_loss: 1.1611\n"
     ]
    },
    {
     "data": {
      "text/plain": [
       "<keras.callbacks.History at 0x7f3d14db1630>"
      ]
     },
     "execution_count": 51,
     "metadata": {},
     "output_type": "execute_result"
    }
   ],
   "source": [
    "model_with_dense.fit(x_train, y_train, epochs=5, validation_split=0.2, batch_size=32)\n",
    "model_with_dense_max_pool.fit(x_train, y_train, epochs=5, validation_split=0.2, batch_size=32)\n",
    "model_with_dense_avg_pool.fit(x_train, y_train, epochs=5, validation_split=0.2, batch_size=32)\n",
    "model_full_conv.fit(x_train, y_train, epochs=5, validation_split=0.2, batch_size=32)\n",
    "model_full_conv_max_pool.fit(x_train, y_train, epochs=5, validation_split=0.2, batch_size=32)\n",
    "model_full_conv_avg_pool.fit(x_train, y_train, epochs=5, validation_split=0.2, batch_size=32)"
   ]
  },
  {
   "cell_type": "code",
   "execution_count": 52,
   "metadata": {},
   "outputs": [
    {
     "name": "stdout",
     "output_type": "stream",
     "text": [
      "313/313 [==============================] - 1s 4ms/step\n",
      "313/313 [==============================] - 1s 3ms/step\n",
      "313/313 [==============================] - 1s 3ms/step\n",
      "313/313 [==============================] - 2s 8ms/step\n",
      "313/313 [==============================] - 2s 6ms/step\n",
      "313/313 [==============================] - 2s 6ms/step\n"
     ]
    }
   ],
   "source": [
    "model_with_dense_pred = model_with_dense.predict(x_test)\n",
    "model_with_dense_max_pool_pred = model_with_dense_max_pool.predict(x_test)\n",
    "model_with_dense_avg_pool_pred = model_with_dense_avg_pool.predict(x_test)\n",
    "model_full_conv_pred = model_full_conv.predict(x_test)\n",
    "model_full_conv_max_pool_pred = model_full_conv_max_pool.predict(x_test)\n",
    "model_full_conv_avg_pool_pred = model_full_conv_avg_pool.predict(x_test)"
   ]
  },
  {
   "cell_type": "code",
   "execution_count": 53,
   "metadata": {},
   "outputs": [
    {
     "name": "stdout",
     "output_type": "stream",
     "text": [
      "model with dense layers accuracy:                   54.52 %\n",
      "model with dense layers, max pooling accuracy:      57.47 %\n",
      "model with dense layers, average pooling accuracy:  53.910000000000004 %\n",
      "model full convolutional accuracy:                  61.73 %\n",
      "model full convolutional max pooling accuracy:      67.57 %\n",
      "model full convolutional avgerage pooling accuracy: 58.60999999999999 %\n"
     ]
    }
   ],
   "source": [
    "NUM_OF_TEST_SAMPLES = len(y_test)\n",
    "\n",
    "model_with_dense_accuracy = (np.argmax(model_with_dense_pred, axis=1) == y_test).sum() / NUM_OF_TEST_SAMPLES\n",
    "model_with_dense_max_pool_accuracy = (np.argmax(model_with_dense_max_pool_pred, axis=1) == y_test).sum() / NUM_OF_TEST_SAMPLES\n",
    "model_with_dense_avg_pool_accuracy = (np.argmax(model_with_dense_avg_pool_pred, axis=1) == y_test).sum() / NUM_OF_TEST_SAMPLES\n",
    "model_full_conv_accuracy = (np.argmax(model_full_conv_pred, axis=1) == y_test).sum() / NUM_OF_TEST_SAMPLES\n",
    "model_full_conv_max_pool_accuracy = (np.argmax(model_full_conv_max_pool_pred, axis=1) == y_test).sum() / NUM_OF_TEST_SAMPLES\n",
    "model_full_conv_avg_pool_accuracy = (np.argmax(model_full_conv_avg_pool_pred, axis=1) == y_test).sum() / NUM_OF_TEST_SAMPLES\n",
    "\n",
    "print(f\"model with dense layers accuracy:                   {model_with_dense_accuracy * 100} %\")\n",
    "print(f\"model with dense layers, max pooling accuracy:      {model_with_dense_max_pool_accuracy * 100} %\")\n",
    "print(f\"model with dense layers, average pooling accuracy:  {model_with_dense_avg_pool_accuracy * 100} %\")\n",
    "print(f\"model full convolutional accuracy:                  {model_full_conv_accuracy * 100} %\")\n",
    "print(f\"model full convolutional max pooling accuracy:      {model_full_conv_max_pool_accuracy * 100} %\")\n",
    "print(f\"model full convolutional avgerage pooling accuracy: {model_full_conv_avg_pool_accuracy * 100} %\")\n"
   ]
  }
 ],
 "metadata": {
  "kernelspec": {
   "display_name": "Python 3.10.6 64-bit",
   "language": "python",
   "name": "python3"
  },
  "language_info": {
   "codemirror_mode": {
    "name": "ipython",
    "version": 3
   },
   "file_extension": ".py",
   "mimetype": "text/x-python",
   "name": "python",
   "nbconvert_exporter": "python",
   "pygments_lexer": "ipython3",
   "version": "3.10.6"
  },
  "orig_nbformat": 4,
  "vscode": {
   "interpreter": {
    "hash": "916dbcbb3f70747c44a77c7bcd40155683ae19c65e1c03b4aa3499c5328201f1"
   }
  }
 },
 "nbformat": 4,
 "nbformat_minor": 2
}
