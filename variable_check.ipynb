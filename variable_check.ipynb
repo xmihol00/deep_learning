{
 "cells": [
  {
   "cell_type": "code",
   "execution_count": 52,
   "metadata": {},
   "outputs": [],
   "source": [
    "import numpy as np\n",
    "import matplotlib.pyplot as plt\n",
    "import pandas as pd"
   ]
  },
  {
   "cell_type": "code",
   "execution_count": 62,
   "metadata": {},
   "outputs": [
    {
     "name": "stdout",
     "output_type": "stream",
     "text": [
      "Number of samples for each data set:\n",
      "  social_capital_college: 2586,\n",
      "  social_capital_county: 3089,\n",
      "  social_capital_high_school: 17525,\n",
      "  social_capital_zip: 23028,\n"
     ]
    }
   ],
   "source": [
    "sc_collage_df = pd.read_csv(\"data/social_capital_college.csv\")\n",
    "sc_county_df = pd.read_csv(\"data/social_capital_county.csv\")\n",
    "sc_high_school_df = pd.read_csv(\"data/social_capital_high_school.csv\")\n",
    "sc_zip_df = pd.read_csv(\"data/social_capital_zip.csv\")\n",
    "print(\"Number of samples for each data set:\")\n",
    "print(f\"  social_capital_college: {sc_collage_df.shape[0]},\")\n",
    "print(f\"  social_capital_county: {sc_county_df.shape[0]},\")\n",
    "print(f\"  social_capital_high_school: {sc_high_school_df.shape[0]},\")\n",
    "print(f\"  social_capital_zip: {sc_zip_df.shape[0]}.\")"
   ]
  },
  {
   "cell_type": "code",
   "execution_count": 54,
   "metadata": {},
   "outputs": [
    {
     "name": "stdout",
     "output_type": "stream",
     "text": [
      "Histogram for 'ec_grp_mem_zip':\n"
     ]
    },
    {
     "data": {
      "image/png": "[encoded data removed]",
      "text/plain": [
       "<Figure size 432x288 with 1 Axes>"
      ]
     },
     "metadata": {
      "needs_background": "light"
     },
     "output_type": "display_data"
    },
    {
     "name": "stdout",
     "output_type": "stream",
     "text": [
      "Statistics for 'ec_grp_mem_zip':\n",
      " - number of not NaN samples: 18337,\n",
      " - maximum likelihood estimate for mean: 0.955,\n",
      " - maximum likelihood estimate for variance: 0.068.\n"
     ]
    }
   ],
   "source": [
    "ec_grp_mem_zip = sc_zip_df[[\"ec_grp_mem_zip\"]]\n",
    "ec_grp_mem_zip = np.array(ec_grp_mem_zip.values).reshape(-1)\n",
    "ec_grp_mem_zip_cleaned = ec_grp_mem_zip[~np.isnan(ec_grp_mem_zip)]\n",
    "print(\"Histogram for 'ec_grp_mem_zip':\")\n",
    "nbhd_exposure_zip_hist = np.hstack(ec_grp_mem_zip_cleaned)\n",
    "plt.hist(nbhd_exposure_zip_hist)\n",
    "plt.show()\n",
    "ec_grp_mem_zip_mean_mle = ec_grp_mem_zip_cleaned.sum() / ec_grp_mem_zip_cleaned.shape[0]\n",
    "ec_grp_mem_zip_variance_mle = ((ec_grp_mem_zip_cleaned - ec_grp_mem_zip_mean_mle) ** 2).sum() / ec_grp_mem_zip_cleaned.shape[0]\n",
    "print(\"Statistics for 'ec_grp_mem_zip':\")\n",
    "print(f\" - number of not NaN samples: {ec_grp_mem_zip_cleaned.shape[0]},\") \n",
    "print(f\" - maximum likelihood estimate for mean: {ec_grp_mem_zip_mean_mle:.3f},\")\n",
    "print(f\" - maximum likelihood estimate for variance: {ec_grp_mem_zip_variance_mle:.3f}.\")\n"
   ]
  },
  {
   "cell_type": "code",
   "execution_count": 55,
   "metadata": {},
   "outputs": [
    {
     "name": "stdout",
     "output_type": "stream",
     "text": [
      "Histogram for 'ec_grp_mem_zip':\n"
     ]
    },
    {
     "data": {
      "image/png": "[encoded data removed]",
      "text/plain": [
       "<Figure size 432x288 with 1 Axes>"
      ]
     },
     "metadata": {
      "needs_background": "light"
     },
     "output_type": "display_data"
    },
    {
     "name": "stdout",
     "output_type": "stream",
     "text": [
      "Statistics for 'exposure_grp_mem_zip':\n",
      "- number of not NaN samples: 18337,\n",
      "- maximum likelihood estimate for mean: 1.005,\n",
      "- maximum likelihood estimate for variance: 0.057.\n"
     ]
    }
   ],
   "source": [
    "exposure_grp_mem_zip = sc_zip_df[[\"exposure_grp_mem_zip\"]]\n",
    "exposure_grp_mem_zip = np.array(exposure_grp_mem_zip.values).reshape(-1)\n",
    "exposure_grp_mem_zip_cleaned = exposure_grp_mem_zip[~np.isnan(exposure_grp_mem_zip)]\n",
    "print(\"Histogram for 'ec_grp_mem_zip':\")\n",
    "nbhd_exposure_zip_hist = np.hstack(exposure_grp_mem_zip_cleaned)\n",
    "plt.hist(nbhd_exposure_zip_hist)\n",
    "plt.show()\n",
    "exposure_grp_mem_zip_mean_mle = exposure_grp_mem_zip_cleaned.sum() / exposure_grp_mem_zip_cleaned.shape[0]\n",
    "exposure_grp_mem_zip_variance_mle = ((exposure_grp_mem_zip_cleaned - exposure_grp_mem_zip_mean_mle) ** 2).sum() / exposure_grp_mem_zip_cleaned.shape[0]\n",
    "print(\"Statistics for 'exposure_grp_mem_zip':\")\n",
    "print(f\"- number of not NaN samples: {exposure_grp_mem_zip_cleaned.shape[0]},\") \n",
    "print(f\"- maximum likelihood estimate for mean: {exposure_grp_mem_zip_mean_mle:.3f},\")\n",
    "print(f\"- maximum likelihood estimate for variance: {exposure_grp_mem_zip_variance_mle:.3f}.\")"
   ]
  },
  {
   "cell_type": "code",
   "execution_count": 56,
   "metadata": {},
   "outputs": [
    {
     "name": "stdout",
     "output_type": "stream",
     "text": [
      "Histogram for 'nbhd_exposure_zip':\n"
     ]
    },
    {
     "data": {
      "image/png": "[encoded data removed]",
      "text/plain": [
       "<Figure size 432x288 with 1 Axes>"
      ]
     },
     "metadata": {
      "needs_background": "light"
     },
     "output_type": "display_data"
    },
    {
     "name": "stdout",
     "output_type": "stream",
     "text": [
      "Statistics for 'nbhd_exposure_zip':\n",
      "- number of not NaN samples: 14285,\n",
      "- maximum likelihood estimate for mean: 0.929,\n",
      "- maximum likelihood estimate for variance: 0.125.\n"
     ]
    }
   ],
   "source": [
    "nbhd_exposure_zip = sc_zip_df[[\"nbhd_exposure_zip\"]]\n",
    "nbhd_exposure_zip = np.array(nbhd_exposure_zip.values).reshape(-1)\n",
    "nbhd_exposure_zip_cleaned = nbhd_exposure_zip[~np.isnan(nbhd_exposure_zip)]\n",
    "nbhd_exposure_zip_hist = np.hstack(nbhd_exposure_zip_cleaned)\n",
    "print(\"Histogram for 'nbhd_exposure_zip':\")\n",
    "plt.hist(nbhd_exposure_zip_hist)\n",
    "plt.show()\n",
    "nbhd_exposure_zip_mean_mle = nbhd_exposure_zip_cleaned.sum() / nbhd_exposure_zip_cleaned.shape[0]\n",
    "nbhd_exposure_zip_variance_mle = ((nbhd_exposure_zip_cleaned - nbhd_exposure_zip_mean_mle) ** 2).sum() / nbhd_exposure_zip_cleaned.shape[0]\n",
    "print(\"Statistics for 'nbhd_exposure_zip':\")\n",
    "print(f\"- number of not NaN samples: {nbhd_exposure_zip_cleaned.shape[0]},\") \n",
    "print(f\"- maximum likelihood estimate for mean: {nbhd_exposure_zip_mean_mle:.3f},\")\n",
    "print(f\"- maximum likelihood estimate for variance: {nbhd_exposure_zip_variance_mle:.3f}.\")"
   ]
  },
  {
   "cell_type": "code",
   "execution_count": 57,
   "metadata": {},
   "outputs": [
    {
     "name": "stdout",
     "output_type": "stream",
     "text": [
      "Correlation between chosen columns:\n"
     ]
    },
    {
     "data": {
      "text/html": [
       "<div>\n",
       "<style scoped>\n",
       "    .dataframe tbody tr th:only-of-type {\n",
       "        vertical-align: middle;\n",
       "    }\n",
       "\n",
       "    .dataframe tbody tr th {\n",
       "        vertical-align: top;\n",
       "    }\n",
       "\n",
       "    .dataframe thead th {\n",
       "        text-align: right;\n",
       "    }\n",
       "</style>\n",
       "<table border=\"1\" class=\"dataframe\">\n",
       "  <thead>\n",
       "    <tr style=\"text-align: right;\">\n",
       "      <th></th>\n",
       "      <th>ec_grp_mem_zip</th>\n",
       "      <th>exposure_grp_mem_zip</th>\n",
       "      <th>nbhd_exposure_zip</th>\n",
       "    </tr>\n",
       "  </thead>\n",
       "  <tbody>\n",
       "    <tr>\n",
       "      <th>ec_grp_mem_zip</th>\n",
       "      <td>1.000000</td>\n",
       "      <td>0.967315</td>\n",
       "      <td>0.908673</td>\n",
       "    </tr>\n",
       "    <tr>\n",
       "      <th>exposure_grp_mem_zip</th>\n",
       "      <td>0.967315</td>\n",
       "      <td>1.000000</td>\n",
       "      <td>0.924254</td>\n",
       "    </tr>\n",
       "    <tr>\n",
       "      <th>nbhd_exposure_zip</th>\n",
       "      <td>0.908673</td>\n",
       "      <td>0.924254</td>\n",
       "      <td>1.000000</td>\n",
       "    </tr>\n",
       "  </tbody>\n",
       "</table>\n",
       "</div>"
      ],
      "text/plain": [
       "                      ec_grp_mem_zip  exposure_grp_mem_zip  nbhd_exposure_zip\n",
       "ec_grp_mem_zip              1.000000              0.967315           0.908673\n",
       "exposure_grp_mem_zip        0.967315              1.000000           0.924254\n",
       "nbhd_exposure_zip           0.908673              0.924254           1.000000"
      ]
     },
     "execution_count": 57,
     "metadata": {},
     "output_type": "execute_result"
    }
   ],
   "source": [
    "selected_cols = sc_zip_df[[\"ec_grp_mem_zip\", \"exposure_grp_mem_zip\", \"nbhd_exposure_zip\"]]\n",
    "print(\"Correlation between chosen columns:\")\n",
    "selected_cols.corr()"
   ]
  }
 ],
 "metadata": {
  "kernelspec": {
   "display_name": "Python 3.10.6 64-bit",
   "language": "python",
   "name": "python3"
  },
  "language_info": {
   "codemirror_mode": {
    "name": "ipython",
    "version": 3
   },
   "file_extension": ".py",
   "mimetype": "text/x-python",
   "name": "python",
   "nbconvert_exporter": "python",
   "pygments_lexer": "ipython3",
   "version": "3.10.6"
  },
  "orig_nbformat": 4,
  "vscode": {
   "interpreter": {
    "hash": "916dbcbb3f70747c44a77c7bcd40155683ae19c65e1c03b4aa3499c5328201f1"
   }
  }
 },
 "nbformat": 4,
 "nbformat_minor": 2
}
